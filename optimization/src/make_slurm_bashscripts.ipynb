{
 "cells": [
  {
   "cell_type": "code",
   "execution_count": 4,
   "metadata": {},
   "outputs": [],
   "source": [
    "from pathlib import Path\n",
    "import pickle"
   ]
  },
  {
   "cell_type": "code",
   "execution_count": 5,
   "metadata": {},
   "outputs": [],
   "source": [
    "savepath = Path().absolute() / 'slurm_bashscripts'\n",
    "savepath.mkdir(exist_ok=True)"
   ]
  },
  {
   "cell_type": "code",
   "execution_count": 6,
   "metadata": {},
   "outputs": [],
   "source": [
    "def make_slurm_job(name, h_max, n, var, cvar, alpha, tree, year, hours):\n",
    "    w = open(name, 'w', newline='\\n')\n",
    "    w.write('#!/bin/bash\\n')\n",
    "    w.write('#SBATCH -J optimization_run\\n')\n",
    "    w.write('#SBATCH --nodes=1\\n')\n",
    "    w.write('#SBATCH --ntasks=1\\n')\n",
    "    n_cpu = 32\n",
    "    w.write(f'#SBATCH --cpus-per-task={n_cpu}\\n') # can go to 128?\n",
    "    # make the timestring from the hours\n",
    "    timestring = str(int(hours)) + ':' + str(int((hours - int(hours))*60)) + ':00'\n",
    "    w.write('#SBATCH --time=' + timestring + '\\n')\n",
    "    w.write('#SBATCH --partition=genoa\\n')\n",
    "    w.write('#SBATCH --output=slurm_%j.log\\n')\n",
    "    w.write('#SBATCH --error=slurm_%j.log\\n')\n",
    "    w.write('echo starting job\\n')\n",
    "    w.write(\"\")\n",
    "    w.write('module load 2022\\n')\n",
    "    w.write('module load Miniconda3/4.12.0\\n')\n",
    "    w.write('source /gpfs/admin/_hpc/sw/arch/AMD-ZEN2/RHEL8/EB_production/2022/software/Miniconda3/4.12.0/etc/profile.d/conda.sh\\n')\n",
    "    w.write('conda activate optimization\\n')\n",
    "    w.write(\"\")\n",
    "    w.write(\"method='energy'\\n\")\n",
    "    w.write(f\"var_wl={var}\\n\")\n",
    "    w.write(f'max_threads={n_cpu}\\n')\n",
    "    w.write('start_from_scratch=False\\n')\n",
    "    w.write(f\"p_chance=1\\n\")\n",
    "    w.write(\"\")\n",
    "    w.write(f\"wl_constraint_type='cvar'\\n\")\n",
    "    w.write('n_scenarios=' + str(n) + '\\n')\n",
    "    w.write(f\"cvar_wl={cvar}\\n\")\n",
    "    w.write(f\"cvar_alpha={alpha}\\n\")\n",
    "    w.write(f'tree_based={tree}\\n')\n",
    "    w.write(f'year={year}\\n')\n",
    "    w.write(f'h_max={h_max}\\n')\n",
    "\n",
    "    w.write(f'export OMP_NUM_THREADS=$max_threads\\n')\n",
    "    w.write('set -euo pipefail\\n')\n",
    "\n",
    "    w.write(\"python 'optimization/src/run_sim_date.py' n_scenarios=$n_scenarios distance_metric=$method wl_constraint_type=$wl_constraint_type var_wl=$var_wl cvar_wl=$cvar_wl cvar_alpha=$cvar_alpha p_chance=$p_chance tree_based=$tree_based max_threads=$max_threads start_from_scratch=$start_from_scratch h_max=$h_max year=$year\")\n"
   ]
  },
  {
   "cell_type": "code",
   "execution_count": 6,
   "metadata": {},
   "outputs": [],
   "source": [
    "def make_slurm_job_robust(name, h_max, n, var, cvar, alpha, tree, year, hours):\n",
    "    w = open(name, 'w', newline='\\n')\n",
    "    w.write('#!/bin/bash\\n')\n",
    "    w.write('#SBATCH -J optimization_run\\n')\n",
    "    w.write('#SBATCH --nodes=1\\n')\n",
    "    w.write('#SBATCH --ntasks=1\\n')\n",
    "    n_cpu = 32\n",
    "    w.write(f'#SBATCH --cpus-per-task={n_cpu}\\n') # can go to 128?\n",
    "    # make the timestring from the hours\n",
    "    timestring = str(int(hours)) + ':' + str(int((hours - int(hours))*60)) + ':00'\n",
    "    w.write('#SBATCH --time=' + timestring + '\\n')\n",
    "    w.write('#SBATCH --partition=genoa\\n')\n",
    "    w.write('#SBATCH --output=slurm_%j.log\\n')\n",
    "    w.write('#SBATCH --error=slurm_%j.log\\n')\n",
    "    w.write(\"\")\n",
    "    w.write('module load 2022\\n')\n",
    "    w.write('module load Miniconda3/4.12.0\\n')\n",
    "    w.write('source /gpfs/admin/_hpc/sw/arch/AMD-ZEN2/RHEL8/EB_production/2022/software/Miniconda3/4.12.0/etc/profile.d/conda.sh\\n')\n",
    "    w.write('conda activate optimization\\n')\n",
    "    w.write(\"\")\n",
    "    w.write(\"method='energy'\\n\")\n",
    "    w.write(f\"var_wl={var}\\n\")\n",
    "    w.write(f'max_threads={n_cpu}\\n')\n",
    "    w.write('start_from_scratch=False\\n')\n",
    "    w.write(f\"p_chance=1\\n\")\n",
    "    w.write(\"\")\n",
    "    w.write(f\"wl_constraint_type='robust'\\n\")\n",
    "    w.write('n_scenarios=' + str(n) + '\\n')\n",
    "    w.write(f\"cvar_wl={cvar}\\n\")\n",
    "    w.write(f\"cvar_alpha={alpha}\\n\")\n",
    "    w.write(f'tree_based={tree}\\n')\n",
    "    w.write(f'year={year}\\n')\n",
    "    w.write(f'h_max={h_max}\\n')\n",
    "\n",
    "    w.write(f'export OMP_NUM_THREADS=$max_threads\\n')\n",
    "    w.write('set -euo pipefail\\n')\n",
    "\n",
    "    w.write(\"python 'optimization/src/run_sim_date.py' n_scenarios=$n_scenarios distance_metric=$method wl_constraint_type=$wl_constraint_type var_wl=$var_wl cvar_wl=$cvar_wl cvar_alpha=$cvar_alpha p_chance=$p_chance tree_based=$tree_based max_threads=$max_threads start_from_scratch=$start_from_scratch h_max=$h_max year=$year\")\n"
   ]
  },
  {
   "cell_type": "code",
   "execution_count": 3,
   "metadata": {},
   "outputs": [],
   "source": [
    "# 16/09/23 1043:  finish scen 3's, again\n",
    "basename = 'optrun_dates'\n",
    "alphas = [0.9, 0.9, 0.9, 0.8, 0.9, 0.9, 0.9, 0.8, 0.8, 0.8, 0.9, 0.9, 0.8, 0.8, 0.8]\n",
    "cvars = [-0.3] * 15# + [-0.395] + [-0.3] * 6 + [-0.395] + [-0.3] * 3\n",
    "years = [2019, 2020, 2021, 2020, 2019, 2020, 2021, 2019, 2020, 2021, 2019, 2020, 2019, 2020, 2021]\n",
    "trees = [False] * 10 + [True] * 5\n",
    "n_scenarios = [3] * 15\n",
    "h_maxs = [-0.4] * 4 + [-0.3] * 11\n",
    "hours = [24 if y!=2021 else 8 for y in years]\n",
    "\n",
    "assert len(alphas) == len(cvars) == len(years) == len(trees) == len(n_scenarios) == len(h_maxs) == len(hours)"
   ]
  },
  {
   "cell_type": "code",
   "execution_count": 10,
   "metadata": {},
   "outputs": [],
   "source": [
    "# 09/10/23 2036 (NL)\n",
    "basename = 'optrun_dates_'\n",
    "alphas = [0.99] * 3 + [0.9] * 6 + [0.8] * 6 + [0.3] * 2 + [0.8] * 2 + [0.99] * 3 + [0.9] * 6 + [0.8] * 6 + [0.9] * 2 + [0.8] * 2\n",
    "cvars = [-0.3] * 3 + [-0.395] * 3 + [-0.3] * 3 + [-0.395] * 3 + [-0.3] * 3 + [-0.3] * 4 + [-0.3] * 3 + [-0.395] * 3 + [-0.3] * 3 + [-0.395] * 3 + [-0.3] * 3 + [-0.3] * 4\n",
    "years = [2019, 2020, 2021] * 5 + [2019, 2020] * 2 + [2019, 2020, 2021] * 5 + [2019, 2020] * 2\n",
    "trees = [False] * 19 + [False] * 15 + [True] * 4\n",
    "n_scenarios = [5] * 15 + [3] * 4 + [5] * 15 + [5] * 4\n",
    "h_maxs = [-0.4] * 15 + [-0.3] * 4 + [-0.3] * 15 + [-0.3] * 4\n",
    "hours = [48 if y!=2021 else 24 for y in years]\n",
    "assert len(alphas) == len(cvars) == len(years) == len(trees) == len(n_scenarios) == len(h_maxs) == len(hours)"
   ]
  },
  {
   "cell_type": "code",
   "execution_count": 14,
   "metadata": {},
   "outputs": [],
   "source": [
    "# 05/11/23 1020\n",
    "basename = 'optrun_dates_'\n",
    "alphas = [0.99] * 2 + [0.9] * 4 + [0.8] * 2 + [0.99] * 2 + [0.9] * 5 + [0.8] * 5\n",
    "cvars = [-0.3] * 2 + [-0.395] * 1 + [-0.3] * 3 + [-0.395] * 2 + [-0.3] * 2 + [-0.395] * 1 + [-0.3] * 4 + [-0.395] * 2 + [-0.3] * 3\n",
    "years = [2019, 2020] + [2019, 2019, 2020, 2021] + [2019, 2020] + [2019, 2020] + [2019] + [2019, 2019, 2020, 2021] + [2019, 2020] + [2019, 2020, 2021]\n",
    "trees = [False] * len(alphas)\n",
    "n_scenarios = [5] * 8 + [3] + [5] * 11\n",
    "h_maxs = [-0.4] * 8 + [-0.3] * 12\n",
    "hours = [48 if y!=2021 else 24 for y in years]\n",
    "assert len(alphas) == len(cvars) == len(years) == len(trees) == len(n_scenarios) == len(h_maxs) == len(hours)"
   ]
  },
  {
   "cell_type": "code",
   "execution_count": 12,
   "metadata": {},
   "outputs": [],
   "source": [
    "# 13/11/23 1032\n",
    "basename = 'optrun_dates_'\n",
    "alphas = [0.99, 0.9, 0.9] + [0.9] * 2 + [0.99, 0.9, 0.8] + [0.9, 0.8] * 2\n",
    "cvars = [-0.3, -0.395, -0.3] +[-0.3] * 2 + [-0.3] * 3 + [-0.3, -0.3] * 2\n",
    "years = [2019] * 3 + [2019, 2020] +  [2019] * 3 + [2020] * 2 + [2021] * 2\n",
    "trees = [False] * 3 + [False] * 2 + [False] * 3 + [False] * 4\n",
    "n_scenarios = [5] * 3 + [3] * 2 + [5] * 3 + [5] * 4\n",
    "h_maxs = [-0.4] * 3 + [-0.3] * 2 + [-0.3] * 3 + [-0.3] * 4\n",
    "hours = [48] * 3 + [48] * 2 + [48] * 3 + [48] * 4\n",
    "assert len(alphas) == len(cvars) == len(years) == len(trees) == len(n_scenarios) == len(h_maxs) == len(hours)"
   ]
  },
  {
   "cell_type": "code",
   "execution_count": 1,
   "metadata": {},
   "outputs": [],
   "source": [
    "# 15/11/2023 2257 FINISH CVAR EXPERIMENTS!\n",
    "basename = 'optrun_dates_'\n",
    "alphas = [0.99, 0.8]\n",
    "cvars = [-0.3, -0.3]\n",
    "years = [2019, 2019]\n",
    "trees = [False, False]\n",
    "n_scenarios = [5, 5]\n",
    "h_maxs = [-0.3, -0.3]\n",
    "hours = [48, 48]\n",
    "assert len(alphas) == len(cvars) == len(years) == len(trees) == len(n_scenarios) == len(h_maxs) == len(hours)"
   ]
  },
  {
   "cell_type": "code",
   "execution_count": 2,
   "metadata": {},
   "outputs": [
    {
     "name": "stdout",
     "output_type": "stream",
     "text": [
      "2\n",
      "2\n",
      "2\n"
     ]
    }
   ],
   "source": [
    "print(len(alphas))\n",
    "print(len(years))\n",
    "print(len(cvars))"
   ]
  },
  {
   "cell_type": "code",
   "execution_count": 7,
   "metadata": {},
   "outputs": [],
   "source": [
    "i = 0\n",
    "for alpha, cvar, year, tree, n, h_max, h in zip(alphas, cvars, years, trees, n_scenarios, h_maxs, hours):\n",
    "    name = basename + str(i) + '.sh'\n",
    "    make_slurm_job(savepath / name, h_max, n, -0.4, cvar, alpha, tree, year, h)\n",
    "    i += 1"
   ]
  },
  {
   "cell_type": "code",
   "execution_count": 6,
   "metadata": {},
   "outputs": [],
   "source": [
    "# 12/10/23 robust finish\n",
    "basename = 'optrun_dates_'\n",
    "i=0\n",
    "h_maxs = [-0.4] * 2\n",
    "trees = [False] * 2\n",
    "ns = [5] * 2\n",
    "years = [2019, 2020]\n",
    "\n",
    "for h_max, tree, n, year in zip(h_maxs, trees, ns, years):\n",
    "    name = basename + str(i) + '.sh'\n",
    "    hour=24\n",
    "    make_slurm_job_robust(savepath / name, h_max, n, -0.4, -0.4, 1, tree, year, hour)\n",
    "    i+=1"
   ]
  },
  {
   "cell_type": "code",
   "execution_count": 7,
   "metadata": {},
   "outputs": [],
   "source": [
    "# read the robust list\n",
    "# entries will be (wl, shape, n, year)\n",
    "with open('slurm_robust.pkl', 'rb') as f:\n",
    "    robust_joblist = pickle.load(f)\n",
    "\n",
    "# i=0\n",
    "basename = 'optrun_dates'\n",
    "for job in robust_joblist:\n",
    "    h_max = job[0]\n",
    "    tree = job[1]\n",
    "    n = job[2]\n",
    "    year = job[3]\n",
    "\n",
    "    if year == 2021:\n",
    "        hour = 24\n",
    "    else:\n",
    "        hour = 48\n",
    "\n",
    "    name = basename + f'_{i}.sh'\n",
    "    make_slurm_job_robust(savepath / name, h_max, n, -0.4, -0.4, 1, tree, year, hour)\n",
    "    \n",
    "    i += 1"
   ]
  },
  {
   "cell_type": "code",
   "execution_count": 4,
   "metadata": {},
   "outputs": [],
   "source": [
    "# read the cvar list\n",
    "# entries will be (wl, alpha, cvar, shape, n, year)\n",
    "with open('slurm_cvars.pkl', 'rb') as f:\n",
    "    cvar_joblist = pickle.load(f)\n",
    "\n",
    "i=0 # comment out to continue from cell above\n",
    "basename = 'optrun_dates'\n",
    "for job in cvar_joblist:\n",
    "    h_max = job[0]\n",
    "    alpha = job[1]\n",
    "    cvar = job[2]\n",
    "    tree = job[3]\n",
    "    n = job[4]\n",
    "    year = job[5]\n",
    "\n",
    "    if year == 2021:\n",
    "        hours = 24\n",
    "    else:\n",
    "        hours = 48\n",
    "    \n",
    "    name = basename + f'_{i}.sh'\n",
    "    make_slurm_job(savepath / name, h_max, n, -0.4, cvar, alpha, tree, year, hours)\n",
    "    i += 1"
   ]
  },
  {
   "cell_type": "code",
   "execution_count": 9,
   "metadata": {},
   "outputs": [],
   "source": [
    "# 29/09/23, finish n=3\n",
    "basename = 'optrun_dates'\n",
    "\n",
    "alphas = [0.9] * 6 + [0.8] * 3\n",
    "cvars = [-0.3] * 9\n",
    "years = [2019, 2020, 2021] * 3\n",
    "trees = [False] * 9\n",
    "n_scenarios = [3] * 9\n",
    "h_maxs = [-0.4] * 3 + [-0.3] * 6\n",
    "hours = [24] * 9"
   ]
  },
  {
   "cell_type": "code",
   "execution_count": 10,
   "metadata": {},
   "outputs": [],
   "source": [
    "\n",
    "i=0\n",
    "\n",
    "for h_max, alpha, cvar, year, tree, n, hour in zip(h_maxs, alphas, cvars, years, trees, n_scenarios, hours):\n",
    "    name = f'{basename}_{i}.sh'\n",
    "    make_slurm_job(savepath / name, h_max, n, -0.4, cvar, alpha, tree, year, hour)\n",
    "    i+=1"
   ]
  },
  {
   "cell_type": "code",
   "execution_count": 93,
   "metadata": {},
   "outputs": [
    {
     "data": {
      "text/plain": [
       "72"
      ]
     },
     "execution_count": 93,
     "metadata": {},
     "output_type": "execute_result"
    }
   ],
   "source": [
    "i"
   ]
  },
  {
   "cell_type": "code",
   "execution_count": 5,
   "metadata": {},
   "outputs": [],
   "source": []
  },
  {
   "cell_type": "code",
   "execution_count": 46,
   "metadata": {},
   "outputs": [],
   "source": [
    "years = [2019, 2020, 2021] * 3\n",
    "trees = [True] * 3 + [False] * 3 + [True] * 3\n",
    "n_scenarios = [3] * 9\n",
    "h_maxs = [-0.4] * 3 + [-0.3] * 6\n",
    "hours = [12] * 9\n",
    "\n",
    "# check if all list are the same length\n",
    "assert len(years) == len(trees) == len(n_scenarios) == len(h_maxs) == len(hours)"
   ]
  },
  {
   "cell_type": "code",
   "execution_count": 8,
   "metadata": {},
   "outputs": [],
   "source": [
    "years = [2019, 2020, 2021] * 4 # 260923\n",
    "trees = [False] * 3 + [True] * 3 + [False] * 3 + [True] * 3\n",
    "n_scenarios = [5] * 12\n",
    "h_maxs = [-0.4] * 6 + [-0.3] * 6\n",
    "hours = [24 if year<2021 else 12 for year in years]\n",
    "\n",
    "# check if all list are the same length\n",
    "assert len(years) == len(trees) == len(n_scenarios) == len(h_maxs) == len(hours)"
   ]
  },
  {
   "cell_type": "code",
   "execution_count": 87,
   "metadata": {},
   "outputs": [],
   "source": [
    "# Robust 11/09/23 10:34\n",
    "years = [2020, 2019, 2020]\n",
    "trees = [True] * 3\n",
    "n_scenarios = [3] * 3\n",
    "h_maxs = [-0.4] * 1 + [-0.3] * 2\n",
    "hours = [12] * 3\n",
    "\n",
    "# check if all list are the same length\n",
    "assert len(years) == len(trees) == len(n_scenarios) == len(h_maxs) == len(hours)"
   ]
  },
  {
   "cell_type": "code",
   "execution_count": 9,
   "metadata": {},
   "outputs": [],
   "source": [
    "# Robust 15/09/23 12:14\n",
    "years = [2019, 2020, 2021] * 4\n",
    "trees = [False] * 3 + [True] * 3 + [False] * 3 + [True] * 3\n",
    "n_scenarios = [3] * 12\n",
    "h_maxs = [-0.4] * 6 + [-0.3] * 6\n",
    "hours = [24 if year<2021 else 12 for year in years] \n",
    "\n",
    "# check if all list are the same length\n",
    "assert len(years) == len(trees) == len(n_scenarios) == len(h_maxs) == len(hours)"
   ]
  },
  {
   "cell_type": "code",
   "execution_count": null,
   "metadata": {},
   "outputs": [],
   "source": [
    "# Robust 15/09/23 12:14\n",
    "years = [2019, 2020, 2021] * 4\n",
    "trees = [False] * 3 + [True] * 3 + [False] * 3 + [True] * 3\n",
    "n_scenarios = [3] * 12\n",
    "h_maxs = [-0.4] * 6 + [-0.3] * 6\n",
    "hours = [24 if year<2021 else 12 for year in years] \n",
    "\n",
    "# check if all list are the same length\n",
    "assert len(years) == len(trees) == len(n_scenarios) == len(h_maxs) == len(hours)"
   ]
  },
  {
   "cell_type": "code",
   "execution_count": 12,
   "metadata": {},
   "outputs": [],
   "source": [
    "# Robust 1 scen 15/09/23 12:19\n",
    "years = [2019, 2020, 2021] * 2\n",
    "trees = [False] * 6\n",
    "n_scenarios = [1] * 6\n",
    "h_maxs = [-0.4] * 3 + [-0.3] * 3\n",
    "hours = [12 if year<2021 else 4 for year in years] \n",
    "\n",
    "# check if all list are the same length\n",
    "assert len(years) == len(trees) == len(n_scenarios) == len(h_maxs) == len(hours)"
   ]
  },
  {
   "cell_type": "code",
   "execution_count": null,
   "metadata": {},
   "outputs": [],
   "source": []
  },
  {
   "cell_type": "code",
   "execution_count": 9,
   "metadata": {},
   "outputs": [],
   "source": [
    "basename = 'optrun_dates'\n",
    "\n",
    "i=0\n",
    "for h_max, year, tree, n, hour in zip(h_maxs, years, trees, n_scenarios, hours):\n",
    "    name = f'{basename}_{i}.sh'\n",
    "    make_slurm_job_robust(savepath / name, h_max, n, -0.4, -0.4, 1, tree, year, hour)\n",
    "    i+=1"
   ]
  },
  {
   "cell_type": "code",
   "execution_count": null,
   "metadata": {},
   "outputs": [],
   "source": []
  },
  {
   "cell_type": "code",
   "execution_count": 43,
   "metadata": {},
   "outputs": [],
   "source": [
    "def make_slurm_job_obs(name, h_max, n, var, cvar, alpha, tree, year, hours):\n",
    "    w = open(name, 'w', newline='\\n')\n",
    "    w.write('#!/bin/bash\\n')\n",
    "    w.write('#SBATCH -J optimization_run\\n')\n",
    "    w.write('#SBATCH --nodes=1\\n')\n",
    "    w.write('#SBATCH --ntasks=1\\n')\n",
    "    n_cpu = 32\n",
    "    w.write(f'#SBATCH --cpus-per-task={n_cpu}\\n') # can go to 128?\n",
    "    # make the timestring from the hours\n",
    "    timestring = str(int(hours)) + ':' + str(int((hours - int(hours))*60)) + ':00'\n",
    "    w.write('#SBATCH --time=' + timestring + '\\n')\n",
    "    w.write('#SBATCH --partition=genoa\\n')\n",
    "    w.write('#SBATCH --output=slurm_%j.log\\n')\n",
    "    w.write('#SBATCH --error=slurm_%j.log\\n')\n",
    "    w.write(\"\")\n",
    "    w.write('module load 2022\\n')\n",
    "    w.write('module load Miniconda3/4.12.0\\n')\n",
    "    w.write('source /gpfs/admin/_hpc/sw/arch/AMD-ZEN2/RHEL8/EB_production/2022/software/Miniconda3/4.12.0/etc/profile.d/conda.sh\\n')\n",
    "    w.write('conda activate optimization\\n')\n",
    "    w.write(\"\")\n",
    "    w.write(\"method='obs'\\n\")\n",
    "    w.write(f\"var_wl={var}\\n\")\n",
    "    w.write(f'max_threads={n_cpu}\\n')\n",
    "    w.write('start_from_scratch=False\\n')\n",
    "    w.write(f\"p_chance=1\\n\")\n",
    "    w.write(\"\")\n",
    "    w.write(f\"wl_constraint_type='robust'\\n\")\n",
    "    w.write('n_scenarios=' + str(n) + '\\n')\n",
    "    w.write(f\"cvar_wl={cvar}\\n\")\n",
    "    w.write(f\"cvar_alpha={alpha}\\n\")\n",
    "    w.write(f'tree_based={tree}\\n')\n",
    "    w.write(f'year={year}\\n')\n",
    "    w.write(f'h_max={h_max}\\n')\n",
    "\n",
    "    w.write(f'export OMP_NUM_THREADS=$max_threads\\n')\n",
    "    w.write('set -euo pipefail\\n')\n",
    "\n",
    "    w.write(\"python 'optimization/src/run_sim_date.py' n_scenarios=$n_scenarios distance_metric=$method wl_constraint_type=$wl_constraint_type var_wl=$var_wl cvar_wl=$cvar_wl cvar_alpha=$cvar_alpha p_chance=$p_chance tree_based=$tree_based max_threads=$max_threads start_from_scratch=$start_from_scratch h_max=$h_max year=$year\")\n"
   ]
  },
  {
   "cell_type": "code",
   "execution_count": 49,
   "metadata": {},
   "outputs": [],
   "source": [
    "basename = 'optrun_dates' # 09/09/23 16:26\n",
    "for i, year in enumerate([2019, 2020, 2021]):\n",
    "    name = f'{basename}_{i}.sh'\n",
    "    if year == 2021:\n",
    "        h = 1\n",
    "    else:\n",
    "        h = 1\n",
    "    make_slurm_job_obs(savepath / name, -0.4, 1, -0.4, -0.4, 1, False, year, h)"
   ]
  },
  {
   "cell_type": "code",
   "execution_count": null,
   "metadata": {},
   "outputs": [],
   "source": []
  }
 ],
 "metadata": {
  "kernelspec": {
   "display_name": "data-analysis",
   "language": "python",
   "name": "python3"
  },
  "language_info": {
   "codemirror_mode": {
    "name": "ipython",
    "version": 3
   },
   "file_extension": ".py",
   "mimetype": "text/x-python",
   "name": "python",
   "nbconvert_exporter": "python",
   "pygments_lexer": "ipython3",
   "version": "3.10.8"
  },
  "orig_nbformat": 4
 },
 "nbformat": 4,
 "nbformat_minor": 2
}
