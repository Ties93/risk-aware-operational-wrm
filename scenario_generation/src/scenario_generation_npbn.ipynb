{
 "cells": [
  {
   "cell_type": "code",
   "execution_count": 1,
   "metadata": {},
   "outputs": [
    {
     "name": "stderr",
     "output_type": "stream",
     "text": [
      "d:\\Users\\Heijden\\Miniconda3\\envs\\scenario_generation\\Lib\\site-packages\\outdated\\utils.py:14: OutdatedPackageWarning: The package pingouin is out of date. Your version is 0.5.3, the latest is 0.5.4.\n",
      "Set the environment variable OUTDATED_IGNORE=1 to disable these warnings.\n",
      "  return warn(\n"
     ]
    }
   ],
   "source": [
    "import numpy as np\n",
    "import matplotlib.pyplot as plt\n",
    "import matplotlib.dates as mdates\n",
    "import scipy.stats as sp\n",
    "import pandas as pd\n",
    "\n",
    "from py_banshee.rankcorr import bn_rankcorr\n",
    "from py_banshee.sample_bn import generate_samples\n",
    "from py_banshee.prediction import inference\n",
    "from py_banshee.copula_test import cvm_statistic"
   ]
  },
  {
   "cell_type": "code",
   "execution_count": 2,
   "metadata": {},
   "outputs": [],
   "source": [
    "# Generate data with a given auto correlation\n",
    "n = 1000\n",
    "n_hours = 48\n",
    "\n",
    "# Generate samples\n",
    "samples = np.random.normal(size=(n))\n",
    "timeseries = np.cumsum(samples)\n",
    "\n",
    "# Make a dataframe with leads on the columns\n",
    "timeseries_df = pd.DataFrame(\n",
    "    index=pd.date_range(start='1/1/2018', periods=n, freq='H'),\n",
    "    columns=range(n_hours)\n",
    ")\n",
    "timeseries_df[0] = timeseries\n",
    "for i in range(1, n_hours):\n",
    "    timeseries_df[i] = timeseries_df[i-1].shift(-1)"
   ]
  },
  {
   "cell_type": "code",
   "execution_count": 3,
   "metadata": {},
   "outputs": [],
   "source": [
    "# Name the nodes\n",
    "names  = ['hour_']*n_hours\n",
    "names = [names[i]+str(i+1) for i in range(n_hours)]\n",
    "\n",
    "days=int(n_hours/24)\n",
    "\n",
    "if days==1:\n",
    "    # Define structure by giving each node a parent cell, except node 0.\n",
    "    parent_cell = [[] if i==0 else [0, i-1] for i in range(n_hours)]\n",
    "    parent_cell[1] = [0]\n",
    "    \n",
    "if days>1:\n",
    "    # Define structure by giving each node a parent cell, except node 0.\n",
    "    # Initialize empty structure\n",
    "    parent_cell = [[] if i==0 else [int(np.floor(i/24))*24, i-1] for i in range(n_hours)]\n",
    "    \n",
    "    # Define the first node (connected to node 0).\n",
    "    parent_cell[1] = [0]\n",
    "\n",
    "    # Connect the nodes to the previous day.\n",
    "    for i in range(24, n_hours, 24):\n",
    "        parent_cell[i] = [i-1]\n",
    "    \n",
    "    # Connect the nodes to the previous hour.\n",
    "    for i in range(24, n_hours):\n",
    "        parent_cell[i] =  [i-24] + parent_cell[i]\n",
    "    \n",
    "    # Connect the nodes to the previous day and hour.\n",
    "    parent_cell[25] = [1, 24]"
   ]
  },
  {
   "cell_type": "code",
   "execution_count": 4,
   "metadata": {},
   "outputs": [],
   "source": [
    "# Calculate the rank correlation matrix\n",
    "rank_corr = bn_rankcorr(\n",
    "    data=timeseries_df, \n",
    "    parent_cell=parent_cell, \n",
    "    var_names=names,\n",
    "    is_data=True,\n",
    "    plot=False\n",
    "    )"
   ]
  },
  {
   "cell_type": "code",
   "execution_count": 5,
   "metadata": {},
   "outputs": [],
   "source": [
    "# Lists for the npbn\n",
    "marginal_distributions = ['norm']*48\n",
    "parameters = [[0,1]]*48"
   ]
  },
  {
   "cell_type": "code",
   "execution_count": 6,
   "metadata": {},
   "outputs": [],
   "source": [
    "generated_samples = generate_samples(\n",
    "    R=rank_corr,\n",
    "    n=1000,\n",
    "    names=names,\n",
    "    data=[],\n",
    "    empirical_data=False,\n",
    "    distributions=marginal_distributions,\n",
    "    parameters=parameters,\n",
    "    )"
   ]
  },
  {
   "cell_type": "code",
   "execution_count": 11,
   "metadata": {},
   "outputs": [
    {
     "data": {
      "text/plain": [
       "Text(0.5, 1.0, 'Generated data')"
      ]
     },
     "execution_count": 11,
     "metadata": {},
     "output_type": "execute_result"
    },
    {
     "data": {
      "image/png": "[encoded data removed]",
      "text/plain": [
       "<Figure size 1000x500 with 2 Axes>"
      ]
     },
     "metadata": {},
     "output_type": "display_data"
    }
   ],
   "source": [
    "# Plot the correlation matrices\n",
    "fig, ax = plt.subplots(1, 2, figsize=(10, 5))\n",
    "ax[0].imshow(timeseries_df.corr(), cmap='coolwarm')\n",
    "ax[0].set_title('Original data')\n",
    "ax[1].imshow(generated_samples.corr(), cmap='coolwarm')\n",
    "ax[1].set_title('Generated data')"
   ]
  }
 ],
 "metadata": {
  "kernelspec": {
   "display_name": "data-analysis",
   "language": "python",
   "name": "python3"
  },
  "language_info": {
   "codemirror_mode": {
    "name": "ipython",
    "version": 3
   },
   "file_extension": ".py",
   "mimetype": "text/x-python",
   "name": "python",
   "nbconvert_exporter": "python",
   "pygments_lexer": "ipython3",
   "version": "3.11.3"
  }
 },
 "nbformat": 4,
 "nbformat_minor": 2
}
