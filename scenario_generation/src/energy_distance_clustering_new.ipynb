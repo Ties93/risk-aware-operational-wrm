{
 "cells": [
  {
   "cell_type": "code",
   "execution_count": 23,
   "metadata": {},
   "outputs": [],
   "source": [
    "# import pyomo.environ as pyo\n",
    "import pandas as pd\n",
    "from pathlib import Path\n",
    "from utils.distfit import *\n",
    "from utils.scenario_gen import *\n",
    "from utils.clustering import *\n",
    "from scipy.spatial.distance import pdist, cdist\n",
    "import numpy as np\n",
    "import scipy as sp\n",
    "import copy\n",
    "import itertools\n",
    "from joblib import Parallel, delayed"
   ]
  },
  {
   "cell_type": "code",
   "execution_count": 24,
   "metadata": {},
   "outputs": [],
   "source": [
    "datapath = Path(Path().resolve().parents[2]) / 'data'\n",
    "savepath = datapath / 'forecast data' / 'Scenarios'\n",
    "distpath = datapath / 'forecast data' / 'Distributions'\n",
    "tpepath = datapath / 'forecast data' / 'TPE Search results'\n",
    "\n",
    "waterboards = ['HHNK', 'HDSR', 'Rijnland', 'Waternet']\n"
   ]
  },
  {
   "cell_type": "code",
   "execution_count": 25,
   "metadata": {},
   "outputs": [
    {
     "data": {
      "text/plain": [
       "WindowsPath('D:/Users/Heijden/Documents/PhD work/Current work/DR_IJmuiden/data')"
      ]
     },
     "execution_count": 25,
     "metadata": {},
     "output_type": "execute_result"
    }
   ],
   "source": [
    "datapath"
   ]
  },
  {
   "cell_type": "code",
   "execution_count": 26,
   "metadata": {},
   "outputs": [],
   "source": [
    "def get_tpepath(name, tpepath):\n",
    "    if name in waterboards:\n",
    "        return tpepath / 'CQRDNN_Waterboards' / name / 'Forecasts'\n",
    "    elif name == 'WL':\n",
    "        return tpepath / 'CQRDNN_WL_IJmuiden' / 'Forecasts'\n",
    "    elif name == 'DAM':\n",
    "        return tpepath / 'CQRDNN_DAM' / 'Forecasts'\n",
    "    else:\n",
    "        raise ValueError(f'Invalid name: {name}')\n",
    "    \n",
    "def get_data(name, tpepath, distpath):\n",
    "    path = get_tpepath(name, tpepath)\n",
    "    if name == 'DAM':\n",
    "        val_data = pd.concat([pd.read_pickle(path / 'y_train.pkl'), pd.read_pickle(path / 'y_val.pkl')], axis=0).astype(float).sort_index()\n",
    "        val_data = val_data.loc[:, [col for col in val_data.columns if ('q0.5' in col) and ('NL' in col)]]\n",
    "        val_data.columns = [f'DAM NL +{h}' for h in range(1,49)]\n",
    "        distribution_df_ = pd.read_pickle(get_distpath(name, distpath))\n",
    "        # distribution_df_ = pd.read_csv(get_distpath(name), index_col=[0,1], parse_dates=True, header=[0,1])\n",
    "        forecast_times = distribution_df_.index.droplevel(1)#.unique()\n",
    "        observation_times = distribution_df_.index.droplevel(0)#.unique()\n",
    "        index = pd.MultiIndex.from_tuples([\n",
    "            # substract 1 day from the observation time and 1h from the forecast time as little hack for the BN later on\n",
    "            # this results in the same index for the BN as the 1-48h forecasts (t+1h:t+49h)\n",
    "            (fctime+pd.DateOffset(hours=-1), obstime+pd.DateOffset(days=-1)+pd.DateOffset(hours=h)) for (fctime, obstime) in zip(forecast_times, observation_times) for h in range(0, 24)\n",
    "        ])\n",
    "        distribution_df = pd.DataFrame(\n",
    "            index=index,\n",
    "            columns=['dist', 'params', 'KS'],\n",
    "        )\n",
    "        idx=pd.IndexSlice\n",
    "        for i, (fctime, obstime) in enumerate(zip(forecast_times, observation_times)):\n",
    "            distribution_df.iloc[i*24:(i+1)*24, 0] = distribution_df_.loc[idx[fctime, obstime], idx[:, 'dist']].values\n",
    "            distribution_df.iloc[i*24:(i+1)*24, 1] = distribution_df_.loc[idx[fctime, obstime], idx[:, 'params']].values\n",
    "            distribution_df.iloc[i*24:(i+1)*24, 2] = distribution_df_.loc[idx[fctime, obstime], idx[:, 'KS']].values\n",
    "    \n",
    "    else:\n",
    "        if name in waterboards + ['WL']:\n",
    "            f = 'y_train.csv'\n",
    "        else:\n",
    "            f = 'y_trainval.csv'\n",
    "        val_data = pd.read_csv(path / f, index_col=0, parse_dates=True).astype(float)\n",
    "        if name in waterboards:\n",
    "            val_data = val_data.loc[:, [f'Aggregated +{i} q0.5' for i in range(1, 49)]]\n",
    "            val_data.columns =  [f'Q +{i}' for i in range(1, 49)]\n",
    "            \n",
    "        elif name == 'WL':\n",
    "            val_data = val_data.loc[:, [f'WL +{i} q0.5' for i in range(1, 49)]]\n",
    "            val_data.columns =  [f'WL +{i}' for i in range(1, 49)]\n",
    "        distribution_df = pd.read_pickle(get_distpath(name, distpath))\n",
    "        #distribution_df = pd.read_csv(get_distpath(name), index_col=0, parse_dates=True, header=[0,1])\n",
    "    return val_data, distribution_df\n",
    "    \n",
    "def get_distpath(name, distpath):\n",
    "    if name in waterboards:\n",
    "        return distpath / f'{name}.pkl'\n",
    "    elif name == 'WL':\n",
    "        return distpath / f'WL.pkl'\n",
    "    elif name == 'DAM':\n",
    "        return distpath / f'DAM.pkl'\n",
    "    else:\n",
    "        raise ValueError(f'Invalid name: {name}')"
   ]
  },
  {
   "cell_type": "code",
   "execution_count": 27,
   "metadata": {},
   "outputs": [],
   "source": [
    "class ScenarioGenerator():\n",
    "    def __init__(self, name, varname, valmin=None, valmax=None, scenario_mask=None, tpepath=None, distpath=None):\n",
    "        self.name = name\n",
    "        self.varname = varname\n",
    "        self.val_data, self.distribution_df = get_data(name, tpepath, distpath)\n",
    "        self.indices = self.distribution_df.index\n",
    "\n",
    "        \n",
    "        if self.name in ['Rijnland', 'Waternet', 'HDSR', 'HHNK']:\n",
    "            self.scenario_mask = (0, self.val_data.max().max())\n",
    "        elif self.name == 'WL':\n",
    "            self.scenario_mask = (self.val_data.min().min(), self.val_data.max().max())\n",
    "        else:\n",
    "            self.scenario_mask = scenario_mask\n",
    "\n",
    "\n",
    "        if valmin is None:\n",
    "            self.valmin = np.floor(self.val_data.min().min() * 10) / 10 / 10\n",
    "            self.valmax = np.ceil(self.val_data.max().max() * 10) / 10 * 10\n",
    "        else:\n",
    "            self.valmin = valmin\n",
    "            self.valmax = valmax\n",
    "\n",
    "        self.distributionloader = DistributionLoader(self.distribution_df, self.varname, valmin=self.valmin, valmax=self.valmax)\n",
    "        self.make_bn()\n",
    "    \n",
    "    def make_bn(self):\n",
    "        self.bn = BN(self.val_data, self.distributionloader, varname=self.varname, n=len(self.val_data.columns), threshold=None)\n",
    "        self.bn.make_structure()\n",
    "\n",
    "    def sample_scenarios(self, date, n=1000, BN=True, return_df=True):\n",
    "        if BN:\n",
    "            self.scenarios = self.bn.sample_BN(date, n).round(2)\n",
    "        else:\n",
    "            self.scenarios = pd.DataFrame(index=range(n), columns=self.val_data.columns)\n",
    "            for col in self.val_data.columns:\n",
    "                dist = self.distribution_df.loc[date, (col, 'dist')]\n",
    "                params = self.distribution_df.loc[date, (col, 'params')]\n",
    "                self.scenarios.loc[:, col] = get_rv(dist, params).rvs(n)\n",
    "\n",
    "        if self.scenario_mask is not None:\n",
    "            self.scenarios[self.scenarios < self.scenario_mask[0]] = self.scenario_mask[0]\n",
    "            self.scenarios[self.scenarios > self.scenario_mask[1]] = self.scenario_mask[1]\n",
    "\n",
    "        if return_df:\n",
    "            return self.scenarios\n",
    "\n",
    "    def cluster_scenarios(self, subset_size, method='energy', return_df=True):\n",
    "        energy_clusterer = ReduceForward(x=self.scenarios.values, cdn=subset_size, dist=method, verbose=False)\n",
    "        energy_clusterer.reduce_forward()\n",
    "        self.clusters = energy_clusterer.clusters\n",
    "        self.clusters.columns=[col for col in self.scenarios.columns] + ['weights']\n",
    "        if return_df:\n",
    "            return self.clusters\n",
    "        \n",
    "class DischargeGenerator():\n",
    "    def __init__(self, scenario_generator_dict):\n",
    "        self.waterboards = ['HHNK', 'Rijnland', 'Waternet', 'HDSR']\n",
    "        self.scenario_generator_dict = scenario_generator_dict\n",
    "\n",
    "    def sample_scenarios(self, date, n=1000, BN=True, return_df=True):\n",
    "        self.wb_scenarios = {}\n",
    "        for wb in self.waterboards:\n",
    "            self.wb_scenarios[wb] = self.scenario_generator_dict[wb].sample_scenarios(date, n=n, return_df=True)\n",
    "        \n",
    "        if return_df:\n",
    "            return self.wb_scenarios\n",
    "    \n",
    "    def cluster_wb_scenarios(self, subset_size, method='energy', return_df=True):\n",
    "        # Cluster the individual waterboard scenarios\n",
    "        ind = pd.MultiIndex.from_product([range(subset_size), self.waterboards], names=['cluster', 'waterboard'])\n",
    "        cluster_cols = [col for col in self.wb_scenarios[self.waterboards[0]].columns] + ['weights']\n",
    "        self.wb_clusters = pd.DataFrame(index=ind, columns=cluster_cols, dtype=float)\n",
    "        self.idx = pd.IndexSlice\n",
    "        for wb in self.waterboards:\n",
    "            self.wb_clusters.loc[self.idx[:, wb], :] = self.scenario_generator_dict[wb].cluster_scenarios(subset_size, method=method, return_df=True).values\n",
    "        \n",
    "        if return_df:\n",
    "            return self.wb_clusters\n",
    "    \n",
    "    def _sum_discharges(self, comb):\n",
    "        return np.sum( np.array([\n",
    "            self.wb_clusters.loc[self.idx[comb[i], wb], [col for col in self.wb_clusters.columns if col != 'weights']].values \n",
    "            for i, wb in enumerate(self.waterboards) ]), axis=0)\n",
    "\n",
    "    def combine_clusters(self, subset_size, method='energy', return_df=True):\n",
    "        combinations = list(itertools.product(*[range(len(self.wb_clusters.loc[self.idx[:, wb], :].index)) for wb in self.waterboards]))\n",
    "        # res = Parallel(n_jobs=-1, verbose=1)(delayed(self._sum_discharges)(comb) for comb in combinations)\n",
    "        # self.combined_scenarios = pd.DataFrame(res, columns=[col for col in self.wb_clusters.columns if col != 'weights'])\n",
    "        self.combined_scenarios = pd.DataFrame(index=range(len(combinations)), columns=[col for col in self.wb_clusters.columns if col != 'weights'], dtype=float)\n",
    "        for i, comb in enumerate(combinations):\n",
    "            self.combined_scenarios.loc[i, :] = self._sum_discharges(comb)\n",
    "\n",
    "        clusterer = ReduceForward(x=self.combined_scenarios.values, cdn=subset_size, dist=method, verbose=False)\n",
    "        clusterer.reduce_forward()\n",
    "        self.combined_clusters = clusterer.clusters\n",
    "        self.combined_clusters.columns=[col for col in self.combined_scenarios.columns] + ['weights']\n",
    "        if return_df:\n",
    "            return self.combined_clusters"
   ]
  },
  {
   "cell_type": "code",
   "execution_count": 28,
   "metadata": {},
   "outputs": [],
   "source": [
    "# def get_tpepath(name):\n",
    "#     if name in waterboards:\n",
    "#         return tpepath / 'CQRDNN_Waterboards' / name / 'Forecasts'\n",
    "#     elif name == 'WL':\n",
    "#         return tpepath / 'CQRDNN_WL_IJmuiden' / 'Forecasts'\n",
    "#     elif name == 'DAM':\n",
    "#         return tpepath / 'CQRDNN_DAM' / 'Forecasts'\n",
    "#     else:\n",
    "#         raise ValueError(f'Invalid name: {name}')\n",
    "    \n",
    "# def get_distpath(name):\n",
    "#     if name in waterboards:\n",
    "#         return distpath / f'{name}.pkl'\n",
    "#     elif name == 'WL':\n",
    "#         return distpath / f'WL.pkl'\n",
    "#     elif name == 'DAM':\n",
    "#         return distpath / f'DAM.csv'\n",
    "#     else:\n",
    "#         raise ValueError(f'Invalid name: {name}')\n",
    "    \n",
    "# def get_data(name):\n",
    "#     path = get_tpepath(name)\n",
    "#     if name == 'DAM':\n",
    "#         val_data = pd.concat([pd.read_pickle(path / 'y_train.pkl'), pd.read_pickle(path / 'y_val.pkl')], axis=0).astype(float).sort_index()\n",
    "#         val_data = val_data.loc[:, [col for col in val_data.columns if ('q0.5' in col) and ('NL' in col)]]\n",
    "#         val_data.columns = [f'DAM NL +{h}' for h in range(1,49)]\n",
    "#         distribution_df_ = pd.read_csv(get_distpath(name), index_col=[0,1], parse_dates=True, header=[0,1])\n",
    "#         distribution_df_.index = distribution_df_.index.droplevel(1)\n",
    "#         indices = np.array([i for i in range(0, len(distribution_df_.index), 2)])\n",
    "#         distribution_df = pd.concat([distribution_df_.iloc[indices, :], distribution_df_.iloc[indices+1, :]], axis=1)\n",
    "#         distribution_df.columns = pd.MultiIndex.from_product([[f'DAM NL_{i}' for i in range(1,49)], ['dist', 'params', 'KS']])\n",
    "    \n",
    "#     else:\n",
    "#         if name == 'DAM':\n",
    "#             f = 'y_trainval.csv'\n",
    "#         else:\n",
    "#             f = 'y_train.csv'\n",
    "            \n",
    "#         val_data = pd.read_csv(path / f, index_col=0, parse_dates=True).astype(float)\n",
    "#         if name in waterboards:\n",
    "#             val_data = val_data.loc[:, [f'Aggregated +{i} q0.5' for i in range(1, 49)]]\n",
    "#             val_data.columns =  [f'Q +{i}' for i in range(1, 49)]\n",
    "            \n",
    "#         elif name == 'WL':\n",
    "#             val_data = val_data.loc[:, [f'WL +{i} q0.5' for i in range(1, 49)]]\n",
    "#             val_data.columns =  [f'WL +{i}' for i in range(1, 49)]\n",
    "        \n",
    "#         if name == 'DAM':\n",
    "#             distribution_df = pd.read_csv(get_distpath(name), index_col=0, parse_dates=True, header=[0,1])\n",
    "#         else:\n",
    "#             distribution_df = pd.read_pickle(get_distpath(name))#, index_col=0, parse_dates=True, header=[0,1])\n",
    "#     return val_data, distribution_df"
   ]
  },
  {
   "cell_type": "code",
   "execution_count": 29,
   "metadata": {},
   "outputs": [],
   "source": [
    "idx = pd.IndexSlice"
   ]
  },
  {
   "cell_type": "code",
   "execution_count": 30,
   "metadata": {},
   "outputs": [],
   "source": [
    "name = 'DAM'\n",
    "val_data, distribution_df = get_data(name, tpepath=tpepath, distpath=distpath)"
   ]
  },
  {
   "cell_type": "code",
   "execution_count": 31,
   "metadata": {},
   "outputs": [
    {
     "data": {
      "text/plain": [
       "-25.0"
      ]
     },
     "execution_count": 31,
     "metadata": {},
     "output_type": "execute_result"
    }
   ],
   "source": [
    "val_data.min().min()"
   ]
  },
  {
   "cell_type": "code",
   "execution_count": 32,
   "metadata": {},
   "outputs": [
    {
     "data": {
      "text/plain": [
       "Timestamp('2019-01-01 23:00:00+0000', tz='UTC')"
      ]
     },
     "execution_count": 32,
     "metadata": {},
     "output_type": "execute_result"
    }
   ],
   "source": [
    "date = distribution_df.index[100][0]\n",
    "date"
   ]
  },
  {
   "cell_type": "code",
   "execution_count": 33,
   "metadata": {},
   "outputs": [],
   "source": [
    "class ScenarioGenerator():\n",
    "    def __init__(self, name, varname, valmin=None, valmax=None, scenario_mask=None, tpepath=None, distpath=None):\n",
    "        self.name = name\n",
    "        self.varname = varname\n",
    "        self.val_data, self.distribution_df = get_data(name, tpepath, distpath)\n",
    "        self.indices = self.distribution_df.index\n",
    "\n",
    "        \n",
    "        if self.name in ['Rijnland', 'Waternet', 'HDSR', 'HHNK']:\n",
    "            self.scenario_mask = (0, self.val_data.max().max())\n",
    "        elif self.name == 'WL':\n",
    "            self.scenario_mask = (self.val_data.min().min(), self.val_data.max().max())\n",
    "        else:\n",
    "            self.scenario_mask = scenario_mask\n",
    "\n",
    "\n",
    "        if valmin is None:\n",
    "            self.valmin = self.val_data.min().min()\n",
    "            if self.valmin < 0:\n",
    "                self.valmin = np.floor(self.val_data.min().min() * 1.1) / 10 * 10\n",
    "            else:\n",
    "                self.valmin = np.ceil(self.val_data.min().min() * 1.1) / 10 * 10\n",
    "\n",
    "            self.valmax = self.val_data.max().max()\n",
    "            if self.valmax < 0:\n",
    "                self.valmax = np.floor(self.val_data.max().max() * 1.1) / 10 * 10\n",
    "            else:\n",
    "                self.valmax = np.ceil(self.val_data.max().max() * 1.1) / 10 * 10\n",
    "        else:\n",
    "            self.valmin = valmin\n",
    "            self.valmax = valmax\n",
    "\n",
    "        self.distributionloader = DistributionLoader(self.distribution_df, self.varname, valmin=self.valmin, valmax=self.valmax)\n",
    "        self.make_bn()\n",
    "    \n",
    "    def make_bn(self):\n",
    "        self.bn = BN(self.val_data, self.distributionloader, varname=self.varname, n=len(self.val_data.columns), threshold=None)\n",
    "        self.bn.make_structure()\n",
    "\n",
    "    def sample_scenarios(self, date, n=1000, BN=True, return_df=True):\n",
    "        if BN:\n",
    "            self.scenarios = self.bn.sample_BN(date, n).round(2)\n",
    "        else:\n",
    "            self.scenarios = pd.DataFrame(index=range(n), columns=self.val_data.columns)\n",
    "            for col in self.val_data.columns:\n",
    "                dist = self.distribution_df.loc[date, (col, 'dist')]\n",
    "                params = self.distribution_df.loc[date, (col, 'params')]\n",
    "                self.scenarios.loc[:, col] = get_rv(dist, params).rvs(n)\n",
    "\n",
    "        if self.scenario_mask is not None:\n",
    "            self.scenarios[self.scenarios < self.scenario_mask[0]] = self.scenario_mask[0]\n",
    "            self.scenarios[self.scenarios > self.scenario_mask[1]] = self.scenario_mask[1]\n",
    "\n",
    "        if return_df:\n",
    "            return self.scenarios\n",
    "\n",
    "    def cluster_scenarios(self, subset_size, method='energy', return_df=True):\n",
    "        energy_clusterer = ReduceForward(x=self.scenarios.values, cdn=subset_size, dist=method, verbose=False)\n",
    "        energy_clusterer.reduce_forward()\n",
    "        self.clusters = energy_clusterer.clusters\n",
    "        self.clusters.columns=[col for col in self.scenarios.columns] + ['weights']\n",
    "        if return_df:\n",
    "            return self.clusters"
   ]
  },
  {
   "cell_type": "code",
   "execution_count": 34,
   "metadata": {},
   "outputs": [
    {
     "name": "stdout",
     "output_type": "stream",
     "text": [
      "-28.0 209.0\n"
     ]
    }
   ],
   "source": [
    "valmin = val_data.min().min()\n",
    "if valmin < 0:\n",
    "    valmin = np.floor(val_data.min().min() * 1.1) / 10 * 10\n",
    "else:\n",
    "    valmin = np.ceil(val_data.min().min() * 1.1) / 10 * 10\n",
    "\n",
    "valmax = val_data.max().max()\n",
    "if valmax < 0:\n",
    "    valmax = np.floor(val_data.max().max() * 1.1) / 10 * 10\n",
    "else:\n",
    "    valmax = np.ceil(val_data.max().max() * 1.1) / 10 * 10\n",
    "    \n",
    "print(valmin, valmax)\n",
    "n_scenarios = 100\n",
    "idx = 15\n",
    "method='energy'\n",
    "\n",
    "\n",
    "scenario_generator = ScenarioGenerator(name, valmin=valmin, valmax=valmax, varname=val_data.columns[idx], tpepath=tpepath, distpath=distpath)\n",
    "if name == 'discharge':\n",
    "    generators = {wb: ScenarioGenerator(wb, 'Aggregated', tpepath=tpepath, distpath=distpath) for wb in waterboards}\n",
    "    generator = DischargeGenerator(generators)\n",
    "    indices = generators['HHNK'].distribution_df.index.droplevel(1).unique()\n",
    "    cols = [col for col in generators['HHNK'].val_data.columns] + ['weights']\n",
    "    # savename = f'{name}_{method}_{n_wb_scenarios}_{n_scenarios}'\n",
    "elif name == 'WL':\n",
    "    generator = ScenarioGenerator(name, 'WL', tpepath=tpepath, distpath=distpath, scenario_mask=(valmin, valmax))\n",
    "    indices = generator.distribution_df.index.droplevel(1).unique()\n",
    "    cols = [col for col in generator.val_data.columns] + ['weights']\n",
    "    # savename = f'{name}_{method}_{n_scenarios}'\n",
    "elif name == 'DAM':\n",
    "    generator = ScenarioGenerator(name, 'DAM NL', tpepath=tpepath, distpath=distpath)\n",
    "    indices = generator.distribution_df.index.droplevel(1).unique()\n",
    "    cols = [col for col in generator.val_data.columns] + ['weights']\n",
    "    # savename = f'{name}_{method}_{n_scenarios}'"
   ]
  },
  {
   "cell_type": "code",
   "execution_count": 35,
   "metadata": {},
   "outputs": [],
   "source": [
    "generator.sample_scenarios(date, n=100, BN=True, return_df=False)\n",
    "generator.cluster_scenarios(5, method=method, return_df=False)\n"
   ]
  },
  {
   "cell_type": "code",
   "execution_count": 36,
   "metadata": {},
   "outputs": [
    {
     "data": {
      "text/plain": [
       "(0.0, 47.0)"
      ]
     },
     "execution_count": 36,
     "metadata": {},
     "output_type": "execute_result"
    },
    {
     "data": {
      "image/png": "[encoded data removed]",
      "text/plain": [
       "<Figure size 400x200 with 1 Axes>"
      ]
     },
     "metadata": {},
     "output_type": "display_data"
    }
   ],
   "source": [
    "fig, ax = plt.subplots(figsize=(4,2))\n",
    "for i in range(len(generator.clusters)):\n",
    "    ax.step(range(48), generator.clusters.iloc[i,:-1].T)\n",
    "\n",
    "ax.set_xticks(range(0, 48, 6))\n",
    "ax.set_xlim(0, 47)"
   ]
  },
  {
   "cell_type": "code",
   "execution_count": 37,
   "metadata": {},
   "outputs": [
    {
     "ename": "TypeError",
     "evalue": "can only concatenate tuple (not \"DateOffset\") to tuple",
     "output_type": "error",
     "traceback": [
      "\u001b[1;31m---------------------------------------------------------------------------\u001b[0m",
      "\u001b[1;31mTypeError\u001b[0m                                 Traceback (most recent call last)",
      "Cell \u001b[1;32mIn[37], line 23\u001b[0m\n\u001b[0;32m     21\u001b[0m     bn \u001b[39m=\u001b[39m BN(val_data, distributionloader, varname\u001b[39m=\u001b[39m\u001b[39m'\u001b[39m\u001b[39mDAM NL\u001b[39m\u001b[39m'\u001b[39m, n\u001b[39m=\u001b[39m\u001b[39m48\u001b[39m, threshold\u001b[39m=\u001b[39m\u001b[39mNone\u001b[39;00m)\n\u001b[0;32m     22\u001b[0m     bn\u001b[39m.\u001b[39mmake_structure()\n\u001b[1;32m---> 23\u001b[0m     scenarios \u001b[39m=\u001b[39m bn(idx, n_scenarios)\u001b[39m.\u001b[39mround(\u001b[39m2\u001b[39m)\n\u001b[0;32m     25\u001b[0m scenarios[scenarios \u001b[39m>\u001b[39m valmax] \u001b[39m=\u001b[39m valmax\n\u001b[0;32m     26\u001b[0m scenarios[scenarios \u001b[39m<\u001b[39m valmin] \u001b[39m=\u001b[39m valmin\n",
      "File \u001b[1;32md:\\Users\\Heijden\\Documents\\PhD work\\Current work\\DR_IJmuiden\\scripts\\scenario_generation\\src\\utils\\scenario_gen.py:90\u001b[0m, in \u001b[0;36mBN.__call__\u001b[1;34m(self, i, N_samples)\u001b[0m\n\u001b[0;32m     89\u001b[0m \u001b[39mdef\u001b[39;00m \u001b[39m__call__\u001b[39m(\u001b[39mself\u001b[39m, i, N_samples\u001b[39m=\u001b[39m\u001b[39m1000\u001b[39m):\n\u001b[1;32m---> 90\u001b[0m     \u001b[39mreturn\u001b[39;00m \u001b[39mself\u001b[39;49m\u001b[39m.\u001b[39;49msample_BN(\u001b[39mself\u001b[39;49m\u001b[39m.\u001b[39;49mdistributionloader\u001b[39m.\u001b[39;49mindex[i], N_samples)\n",
      "File \u001b[1;32md:\\Users\\Heijden\\Documents\\PhD work\\Current work\\DR_IJmuiden\\scripts\\scenario_generation\\src\\utils\\scenario_gen.py:77\u001b[0m, in \u001b[0;36mBN.sample_BN\u001b[1;34m(self, index, N_samples)\u001b[0m\n\u001b[0;32m     75\u001b[0m \u001b[39mdef\u001b[39;00m \u001b[39msample_BN\u001b[39m(\u001b[39mself\u001b[39m, index, N_samples\u001b[39m=\u001b[39m\u001b[39m1000\u001b[39m):\n\u001b[0;32m     76\u001b[0m \u001b[39m    \u001b[39m\u001b[39m\"\"\"Samples the BN for the given index.\"\"\"\u001b[39;00m\n\u001b[1;32m---> 77\u001b[0m     distributions, parameters \u001b[39m=\u001b[39m \u001b[39mzip\u001b[39m(\u001b[39m*\u001b[39m\u001b[39mself\u001b[39;49m\u001b[39m.\u001b[39;49mget_forecast_distributions(index))\n\u001b[0;32m     78\u001b[0m     distributions \u001b[39m=\u001b[39m [\u001b[39mself\u001b[39m\u001b[39m.\u001b[39mdistributionloader\u001b[39m.\u001b[39mdistributions[d]\u001b[39m.\u001b[39mname \u001b[39mfor\u001b[39;00m d \u001b[39min\u001b[39;00m distributions]\n\u001b[0;32m     79\u001b[0m     \u001b[39mreturn\u001b[39;00m generate_samples(\n\u001b[0;32m     80\u001b[0m                 R\u001b[39m=\u001b[39m\u001b[39mself\u001b[39m\u001b[39m.\u001b[39mR,\n\u001b[0;32m     81\u001b[0m                 n\u001b[39m=\u001b[39mN_samples,\n\u001b[1;32m   (...)\u001b[0m\n\u001b[0;32m     86\u001b[0m                 parameters\u001b[39m=\u001b[39m\u001b[39mlist\u001b[39m(parameters)\n\u001b[0;32m     87\u001b[0m             )\n",
      "File \u001b[1;32md:\\Users\\Heijden\\Documents\\PhD work\\Current work\\DR_IJmuiden\\scripts\\scenario_generation\\src\\utils\\scenario_gen.py:73\u001b[0m, in \u001b[0;36mBN.get_forecast_distributions\u001b[1;34m(self, index)\u001b[0m\n\u001b[0;32m     71\u001b[0m \u001b[39mdef\u001b[39;00m \u001b[39mget_forecast_distributions\u001b[39m(\u001b[39mself\u001b[39m, index):\n\u001b[0;32m     72\u001b[0m \u001b[39m    \u001b[39m\u001b[39m\"\"\"Returns the distributions for the given index.\"\"\"\u001b[39;00m\n\u001b[1;32m---> 73\u001b[0m     \u001b[39mreturn\u001b[39;00m [\u001b[39mself\u001b[39;49m\u001b[39m.\u001b[39;49mget_distribution(index, hour) \u001b[39mfor\u001b[39;49;00m hour \u001b[39min\u001b[39;49;00m \u001b[39mrange\u001b[39;49m(\u001b[39m1\u001b[39;49m, \u001b[39mself\u001b[39;49m\u001b[39m.\u001b[39;49mn\u001b[39m+\u001b[39;49m\u001b[39m1\u001b[39;49m)]\n",
      "File \u001b[1;32md:\\Users\\Heijden\\Documents\\PhD work\\Current work\\DR_IJmuiden\\scripts\\scenario_generation\\src\\utils\\scenario_gen.py:73\u001b[0m, in \u001b[0;36m<listcomp>\u001b[1;34m(.0)\u001b[0m\n\u001b[0;32m     71\u001b[0m \u001b[39mdef\u001b[39;00m \u001b[39mget_forecast_distributions\u001b[39m(\u001b[39mself\u001b[39m, index):\n\u001b[0;32m     72\u001b[0m \u001b[39m    \u001b[39m\u001b[39m\"\"\"Returns the distributions for the given index.\"\"\"\u001b[39;00m\n\u001b[1;32m---> 73\u001b[0m     \u001b[39mreturn\u001b[39;00m [\u001b[39mself\u001b[39;49m\u001b[39m.\u001b[39;49mget_distribution(index, hour) \u001b[39mfor\u001b[39;00m hour \u001b[39min\u001b[39;00m \u001b[39mrange\u001b[39m(\u001b[39m1\u001b[39m, \u001b[39mself\u001b[39m\u001b[39m.\u001b[39mn\u001b[39m+\u001b[39m\u001b[39m1\u001b[39m)]\n",
      "File \u001b[1;32md:\\Users\\Heijden\\Documents\\PhD work\\Current work\\DR_IJmuiden\\scripts\\scenario_generation\\src\\utils\\scenario_gen.py:69\u001b[0m, in \u001b[0;36mBN.get_distribution\u001b[1;34m(self, index, hour)\u001b[0m\n\u001b[0;32m     67\u001b[0m \u001b[39mdef\u001b[39;00m \u001b[39mget_distribution\u001b[39m(\u001b[39mself\u001b[39m, index, hour):\n\u001b[0;32m     68\u001b[0m \u001b[39m    \u001b[39m\u001b[39m\"\"\"Returns the distribution for the given index and hour.\"\"\"\u001b[39;00m\n\u001b[1;32m---> 69\u001b[0m     \u001b[39mreturn\u001b[39;00m \u001b[39mself\u001b[39;49m\u001b[39m.\u001b[39;49mdistributionloader\u001b[39m.\u001b[39;49mget_distribution(index, hour)\n",
      "File \u001b[1;32md:\\Users\\Heijden\\Documents\\PhD work\\Current work\\DR_IJmuiden\\scripts\\scenario_generation\\src\\utils\\distfit.py:423\u001b[0m, in \u001b[0;36mDistributionLoader.get_distribution\u001b[1;34m(self, date, hour)\u001b[0m\n\u001b[0;32m    421\u001b[0m \u001b[39m\u001b[39m\u001b[39m\"\"\"Returns the distribution for the given index and hour.\"\"\"\u001b[39;00m\n\u001b[0;32m    422\u001b[0m col0name \u001b[39m=\u001b[39m \u001b[39mf\u001b[39m\u001b[39m'\u001b[39m\u001b[39m{\u001b[39;00m\u001b[39mself\u001b[39m\u001b[39m.\u001b[39mcolname\u001b[39m}\u001b[39;00m\u001b[39m'\u001b[39m\n\u001b[1;32m--> 423\u001b[0m dist_name \u001b[39m=\u001b[39m \u001b[39mself\u001b[39m\u001b[39m.\u001b[39mdf\u001b[39m.\u001b[39mloc[\u001b[39mself\u001b[39m\u001b[39m.\u001b[39midx[date, date\u001b[39m+\u001b[39;49mpd\u001b[39m.\u001b[39;49mDateOffset(hours\u001b[39m=\u001b[39;49mhour), :], \u001b[39m'\u001b[39m\u001b[39mdist\u001b[39m\u001b[39m'\u001b[39m]\u001b[39m.\u001b[39mvalues[\u001b[39m0\u001b[39m]\n\u001b[0;32m    424\u001b[0m params_str \u001b[39m=\u001b[39m \u001b[39mself\u001b[39m\u001b[39m.\u001b[39mdf\u001b[39m.\u001b[39mloc[\u001b[39mself\u001b[39m\u001b[39m.\u001b[39midx[date, date\u001b[39m+\u001b[39mpd\u001b[39m.\u001b[39mDateOffset(hours\u001b[39m=\u001b[39mhour), :], \u001b[39m'\u001b[39m\u001b[39mparams\u001b[39m\u001b[39m'\u001b[39m]\n\u001b[0;32m    425\u001b[0m \u001b[39m# print(params_str.values)\u001b[39;00m\n",
      "\u001b[1;31mTypeError\u001b[0m: can only concatenate tuple (not \"DateOffset\") to tuple"
     ]
    }
   ],
   "source": [
    "\n",
    "\n",
    "if name in waterboards:\n",
    "    varname = 'Aggregated'\n",
    "    distributionloader = DistributionLoader(distribution_df, 'Aggregated', valmin=valmin, valmax=valmax)\n",
    "    bn = BN(val_data, distributionloader, varname='Aggregated', n=48, threshold=None)\n",
    "    bn.make_structure()\n",
    "    scenarios = bn(idx, n_scenarios).round(2)\n",
    "    \n",
    "    # Mask all negative values to zero\n",
    "    scenarios[scenarios < 0] = 0\n",
    "\n",
    "elif name == 'WL':\n",
    "    varname = 'WL'\n",
    "    distributionloader = DistributionLoader(distribution_df, 'WL', valmin=valmin, valmax=valmax)\n",
    "    bn = BN(val_data, distributionloader, varname='WL', n=48, threshold=None)\n",
    "    bn.make_structure()\n",
    "    scenarios = bn(idx, n_scenarios).round(2)\n",
    "\n",
    "elif name == 'DAM':\n",
    "    varname = 'DAM NL'\n",
    "    distributionloader = DistributionLoader(distribution_df, 'DAM NL', valmin=valmin, valmax=valmax)\n",
    "    bn = BN(val_data, distributionloader, varname='DAM NL', n=48, threshold=None)\n",
    "    bn.make_structure()\n",
    "    scenarios = bn(idx, n_scenarios).round(2)\n",
    "\n",
    "scenarios[scenarios > valmax] = valmax\n",
    "scenarios[scenarios < valmin] = valmin"
   ]
  },
  {
   "cell_type": "code",
   "execution_count": 26,
   "metadata": {},
   "outputs": [
    {
     "data": {
      "image/png": "[encoded data removed]",
      "text/plain": [
       "<Figure size 800x400 with 2 Axes>"
      ]
     },
     "metadata": {},
     "output_type": "display_data"
    }
   ],
   "source": [
    "ax = bn.plot_scenarios_R(16)"
   ]
  },
  {
   "cell_type": "code",
   "execution_count": null,
   "metadata": {},
   "outputs": [
    {
     "name": "stderr",
     "output_type": "stream",
     "text": [
      "[Parallel(n_jobs=-1)]: Using backend LokyBackend with 20 concurrent workers.\n",
      "[Parallel(n_jobs=-1)]: Done  10 tasks      | elapsed:    1.3s\n",
      "[Parallel(n_jobs=-1)]: Done 100 out of 100 | elapsed:    1.6s finished\n",
      "[Parallel(n_jobs=-1)]: Using backend LokyBackend with 20 concurrent workers.\n",
      "[Parallel(n_jobs=-1)]: Done  10 tasks      | elapsed:    0.0s\n",
      "[Parallel(n_jobs=-1)]: Done  60 out of  99 | elapsed:    0.0s remaining:    0.0s\n",
      "[Parallel(n_jobs=-1)]: Done  99 out of  99 | elapsed:    0.0s finished\n",
      "[Parallel(n_jobs=-1)]: Using backend LokyBackend with 20 concurrent workers.\n",
      "[Parallel(n_jobs=-1)]: Done  10 tasks      | elapsed:    0.0s\n",
      "[Parallel(n_jobs=-1)]: Done  98 out of  98 | elapsed:    0.0s finished\n",
      "[Parallel(n_jobs=-1)]: Using backend LokyBackend with 20 concurrent workers.\n",
      "[Parallel(n_jobs=-1)]: Done  10 tasks      | elapsed:    0.0s\n",
      "[Parallel(n_jobs=-1)]: Done  58 out of  97 | elapsed:    0.0s remaining:    0.0s\n",
      "[Parallel(n_jobs=-1)]: Done  97 out of  97 | elapsed:    0.0s finished\n",
      "[Parallel(n_jobs=-1)]: Using backend LokyBackend with 20 concurrent workers.\n",
      "[Parallel(n_jobs=-1)]: Done  10 tasks      | elapsed:    0.0s\n",
      "[Parallel(n_jobs=-1)]: Done  96 out of  96 | elapsed:    0.0s finished\n"
     ]
    }
   ],
   "source": [
    "energy_clusterer = ReduceForward(x=scenarios.values, cdn=5, dist='energy')\n",
    "energy_clusterer.reduce_forward()"
   ]
  },
  {
   "cell_type": "code",
   "execution_count": 9,
   "metadata": {},
   "outputs": [
    {
     "name": "stderr",
     "output_type": "stream",
     "text": [
      "[Parallel(n_jobs=-1)]: Using backend LokyBackend with 20 concurrent workers.\n",
      "[Parallel(n_jobs=-1)]: Done  10 tasks      | elapsed:    0.0s\n",
      "[Parallel(n_jobs=-1)]: Done 100 out of 100 | elapsed:    0.0s finished\n",
      "[Parallel(n_jobs=-1)]: Using backend LokyBackend with 20 concurrent workers.\n",
      "[Parallel(n_jobs=-1)]: Done  10 tasks      | elapsed:    0.0s\n",
      "[Parallel(n_jobs=-1)]: Done  60 out of  99 | elapsed:    0.0s remaining:    0.0s\n",
      "[Parallel(n_jobs=-1)]: Done  99 out of  99 | elapsed:    0.0s finished\n",
      "[Parallel(n_jobs=-1)]: Using backend LokyBackend with 20 concurrent workers.\n",
      "[Parallel(n_jobs=-1)]: Done  10 tasks      | elapsed:    0.0s\n",
      "[Parallel(n_jobs=-1)]: Done  98 out of  98 | elapsed:    0.0s finished\n",
      "[Parallel(n_jobs=-1)]: Using backend LokyBackend with 20 concurrent workers.\n",
      "[Parallel(n_jobs=-1)]: Done  10 tasks      | elapsed:    0.0s\n",
      "[Parallel(n_jobs=-1)]: Done  58 out of  97 | elapsed:    0.0s remaining:    0.0s\n",
      "[Parallel(n_jobs=-1)]: Done  97 out of  97 | elapsed:    0.0s finished\n",
      "[Parallel(n_jobs=-1)]: Using backend LokyBackend with 20 concurrent workers.\n",
      "[Parallel(n_jobs=-1)]: Done  10 tasks      | elapsed:    0.0s\n",
      "[Parallel(n_jobs=-1)]: Done  96 out of  96 | elapsed:    0.0s finished\n"
     ]
    }
   ],
   "source": [
    "was_clusterer = ReduceForward(x=scenarios.values, cdn=5, dist='wasserstein')\n",
    "was_clusterer.reduce_forward()"
   ]
  },
  {
   "cell_type": "code",
   "execution_count": 10,
   "metadata": {},
   "outputs": [],
   "source": [
    "def plot_clusters(clusterer, ax=None, **kwargs):\n",
    "    if not ax:\n",
    "        fig, ax = plt.subplots(figsize=(6, 3))\n",
    "    cluster_scen_idx = [int(i) for i in clusterer.res[:,0]]\n",
    "    weights = clusterer.res[:,1]\n",
    "    for i in range(len(clusterer.x)):\n",
    "        if not i in cluster_scen_idx:\n",
    "            if i == 0:\n",
    "                ax.step(range(1,49), clusterer.x[i,:], color='grey', alpha=0.1, lw=1, label='Original scenarios')\n",
    "            else:\n",
    "                ax.step(range(1,49), clusterer.x[i,:], color='grey', alpha=0.1, lw=1)\n",
    "    \n",
    "    weight_labels = [f'$w_{i}$ = {weights[i]:.2f}' for i in range(len(weights))]\n",
    "    for i, j in enumerate(cluster_scen_idx):\n",
    "        ax.step(range(1,49), clusterer.x[j,:], alpha=1, lw=1, label=weight_labels[i])\n",
    "        \n",
    "    # Now add the legend on the top of the plot\n",
    "    ax.legend(loc='upper center', bbox_to_anchor=(0.5, 1.15), ncol=3, fancybox=True, shadow=True)\n",
    "    ax.set_xlim(1, 48)\n"
   ]
  },
  {
   "cell_type": "code",
   "execution_count": 22,
   "metadata": {},
   "outputs": [
    {
     "ename": "NameError",
     "evalue": "name 'plot_clusters' is not defined",
     "output_type": "error",
     "traceback": [
      "\u001b[1;31m---------------------------------------------------------------------------\u001b[0m",
      "\u001b[1;31mNameError\u001b[0m                                 Traceback (most recent call last)",
      "Cell \u001b[1;32mIn[22], line 2\u001b[0m\n\u001b[0;32m      1\u001b[0m fig, ax \u001b[39m=\u001b[39m plt\u001b[39m.\u001b[39msubplots(\u001b[39m1\u001b[39m, \u001b[39m2\u001b[39m, figsize\u001b[39m=\u001b[39m(\u001b[39m12\u001b[39m, \u001b[39m4\u001b[39m), sharey\u001b[39m=\u001b[39m\u001b[39mTrue\u001b[39;00m)\n\u001b[1;32m----> 2\u001b[0m plot_clusters(energy_clusterer, ax\u001b[39m=\u001b[39max[\u001b[39m0\u001b[39m])\n\u001b[0;32m      3\u001b[0m ax[\u001b[39m0\u001b[39m]\u001b[39m.\u001b[39mset_xlabel(\u001b[39m'\u001b[39m\u001b[39mForecast leadtime [hours] \u001b[39m\u001b[39m\\n\u001b[39;00m\u001b[39m Energy distance clustering\u001b[39m\u001b[39m'\u001b[39m)\n\u001b[0;32m      4\u001b[0m ax[\u001b[39m0\u001b[39m]\u001b[39m.\u001b[39mset_ylabel(\u001b[39m'\u001b[39m\u001b[39mDischarge [$m^3s^\u001b[39m\u001b[39m{\u001b[39m\u001b[39m-1}$]\u001b[39m\u001b[39m'\u001b[39m)\n",
      "\u001b[1;31mNameError\u001b[0m: name 'plot_clusters' is not defined"
     ]
    },
    {
     "data": {
      "image/png": "[encoded data removed]",
      "text/plain": [
       "<Figure size 1200x400 with 2 Axes>"
      ]
     },
     "metadata": {},
     "output_type": "display_data"
    }
   ],
   "source": [
    "fig, ax = plt.subplots(1, 2, figsize=(12, 4), sharey=True)\n",
    "plot_clusters(energy_clusterer, ax=ax[0])\n",
    "ax[0].set_xlabel('Forecast leadtime [hours] \\n Energy distance clustering')\n",
    "ax[0].set_ylabel('Discharge [$m^3s^{-1}$]')\n",
    "plot_clusters(was_clusterer, ax=ax[1])\n",
    "ax[1].set_xlabel('Forecast leadtime [hours] \\n Wasserstein distance clustering')\n",
    "\n",
    "fig.suptitle(f'Clustered scenarios for {name} - {distribution_df.index[idx]}')\n",
    "fig.tight_layout()"
   ]
  },
  {
   "cell_type": "code",
   "execution_count": null,
   "metadata": {},
   "outputs": [],
   "source": []
  }
 ],
 "metadata": {
  "kernelspec": {
   "display_name": "pyomo",
   "language": "python",
   "name": "python3"
  },
  "language_info": {
   "codemirror_mode": {
    "name": "ipython",
    "version": 3
   },
   "file_extension": ".py",
   "mimetype": "text/x-python",
   "name": "python",
   "nbconvert_exporter": "python",
   "pygments_lexer": "ipython3",
   "version": "3.11.3"
  },
  "orig_nbformat": 4
 },
 "nbformat": 4,
 "nbformat_minor": 2
}
